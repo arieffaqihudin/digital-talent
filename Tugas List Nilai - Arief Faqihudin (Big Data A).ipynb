{
 "cells": [
  {
   "cell_type": "markdown",
   "metadata": {},
   "source": [
    "# Tugas 2 : List Nilai"
   ]
  },
  {
   "cell_type": "markdown",
   "metadata": {},
   "source": [
    "Diberikan sekumpulan Nilai Random antara 0 sampai dengan 100 sebanyak 250 nilai. Buatlah program untuk melakukan hal berikut:\n",
    "\n",
    "1. Tampilkan Angka Ganjil dari ke 250 nilai tersebut\n",
    "2. Tampilkan berapa banyak yang mendapatkan nilai lebih dari 70\n",
    "3. Tampilkan standar deviasi dari sekumpulan nilai tersebut\n",
    "4. Tampilkan nilai maksimum dan minimum\n",
    "5. Tampilkan modus dari sekumpulan nilai tersebut"
   ]
  },
  {
   "cell_type": "code",
   "execution_count": 4,
   "metadata": {},
   "outputs": [
    {
     "name": "stdout",
     "output_type": "stream",
     "text": [
      "[1, 5, 82, 66, 77, 95, 98, 69, 9, 38, 73, 97, 90, 98, 72, 61, 92, 85, 47, 86, 33, 97, 53, 59, 8, 82, 12, 38, 22, 93, 56, 40, 52, 75, 22, 57, 70, 44, 3, 66, 69, 85, 51, 23, 27, 68, 88, 23, 60, 69, 57, 37, 89, 95, 8, 23, 27, 67, 78, 66, 30, 70, 10, 67, 34, 61, 88, 92, 7, 45, 37, 55, 59, 7, 23, 87, 26, 81, 64, 12, 43, 27, 43, 58, 71, 54, 48, 92, 13, 11, 33, 63, 73, 51, 11, 62, 30, 3, 76, 41, 32, 70, 55, 37, 62, 89, 51, 81, 66, 82, 40, 52, 47, 38, 24, 64, 21, 80, 45, 87, 29, 37, 36, 70, 77, 97, 83, 36, 56, 81, 26, 96, 80, 93, 78, 31, 83, 35, 33, 76, 87, 78, 13, 28, 2, 93, 11, 75, 43, 10, 49, 80, 78, 30, 98, 68, 90, 19, 28, 71, 8, 15, 79, 93, 48, 10, 70, 83, 91, 88, 93, 27, 36, 29, 17, 77, 78, 53, 42, 31, 39, 4, 36, 55, 98, 8, 94, 84, 53, 27, 48, 7, 12, 20, 17, 78, 32, 51, 57, 25, 92, 73, 98, 70, 62, 74, 12, 52, 63, 51, 5, 1, 60, 69, 18, 93, 45, 49, 71, 11, 24, 87, 94, 97, 17, 69, 30, 69, 4, 78, 9, 40, 67, 1, 66, 36, 67, 76, 21, 26, 96, 62, 11, 12, 96, 85, 39, 69, 50, 3]\n"
     ]
    }
   ],
   "source": [
    "import random\n",
    "\n",
    "# GENERATE RANDOM\n",
    "nilaiTugas = []\n",
    "for i in range(250):\n",
    "    nilaiTugas.append(random.randrange(1,100,1))\n",
    "\n",
    "print(nilaiTugas)\n",
    "\n",
    "# TAMPILKAN:\n",
    "# ganjil\n",
    "# nilai > 70\n",
    "# standar deviasi\n",
    "# maksimum\n",
    "# minimum\n",
    "# modus"
   ]
  },
  {
   "cell_type": "code",
   "execution_count": 5,
   "metadata": {},
   "outputs": [
    {
     "name": "stdout",
     "output_type": "stream",
     "text": [
      "=============================\n",
      "[1, 5, 77, 95, 69, 9, 73, 97, 61, 85, 47, 33, 97, 53, 59, 93, 75, 57, 3, 69, 85, 51, 23, 27, 23, 69, 57, 37, 89, 95, 23, 27, 67, 67, 61, 7, 45, 37, 55, 59, 7, 23, 87, 81, 43, 27, 43, 71, 13, 11, 33, 63, 73, 51, 11, 3, 41, 55, 37, 89, 51, 81, 47, 21, 45, 87, 29, 37, 77, 97, 83, 81, 93, 31, 83, 35, 33, 87, 13, 93, 11, 75, 43, 49, 19, 71, 15, 79, 93, 83, 91, 93, 27, 29, 17, 77, 53, 31, 39, 55, 53, 27, 7, 17, 51, 57, 25, 73, 63, 51, 5, 1, 69, 93, 45, 49, 71, 11, 87, 97, 17, 69, 69, 9, 67, 1, 67, 21, 11, 85, 39, 69, 3]\n"
     ]
    }
   ],
   "source": [
    "#[1] Tampilkan angka ganjil dari 250 nilai random\n",
    "print('=============================')    \n",
    "nilai = []\n",
    "for n in nilaiTugas:\n",
    "    if ((n % 2) == 1):\n",
    "        nilai.append(n)\n",
    "print(nilai)"
   ]
  },
  {
   "cell_type": "code",
   "execution_count": 6,
   "metadata": {},
   "outputs": [
    {
     "name": "stdout",
     "output_type": "stream",
     "text": [
      "=============================\n",
      "79\n"
     ]
    }
   ],
   "source": [
    "#[2] Tampilkan berapa banyak yang mendapatkan nilai lebih dari 70\n",
    "\n",
    "tot = 0\n",
    "for n in nilaiTugas:\n",
    "    if (n > 70):\n",
    "#         print(n)\n",
    "        tot = tot + 1\n",
    "print('=============================')        \n",
    "print(tot)"
   ]
  },
  {
   "cell_type": "code",
   "execution_count": 7,
   "metadata": {},
   "outputs": [
    {
     "name": "stdout",
     "output_type": "stream",
     "text": [
      "=============================\n",
      "jumlah data:  250\n",
      "x1:  899629\n",
      "x2:  173738761\n",
      "varian:  821.984\n",
      "Standar Deviasi:  28.67\n"
     ]
    }
   ],
   "source": [
    "#[3] Tampilkan standar deviasi dari sekumpulan nilai tersebut\n",
    "\n",
    "jum_data = len(nilaiTugas)\n",
    "print('=============================')\n",
    "print('jumlah data: ',jum_data)\n",
    "\n",
    "#[-] mencari nilai x1\n",
    "x1 = 0\n",
    "for n in nilaiTugas:\n",
    "    x1 = x1 + (n**2)\n",
    "print('x1: ',x1)\n",
    "\n",
    "#[-] mencari nilai x2\n",
    "x2 = 0\n",
    "for n in nilaiTugas:\n",
    "    x2 = x2 + n\n",
    "x2 = x2**2\n",
    "print('x2: ',x2)\n",
    "\n",
    "#[-] mencari nilai v \n",
    "v = ((jum_data*x1)-x2)/(jum_data*(jum_data - 1))\n",
    "print('varian: ',round(v,3))\n",
    "\n",
    "#[-] hasil standar deviasi\n",
    "s2 = v**(1/2)\n",
    "print('Standar Deviasi: ',round(s2,3))"
   ]
  },
  {
   "cell_type": "code",
   "execution_count": 8,
   "metadata": {},
   "outputs": [
    {
     "name": "stdout",
     "output_type": "stream",
     "text": [
      "=============================\n",
      "nilai maksimum:  98\n",
      "nilai minimum:  1\n"
     ]
    }
   ],
   "source": [
    "#[4][a] Tampilkan nilai maksimum dan minimum\n",
    "print('=============================')    \n",
    "max = nilaiTugas[0]\n",
    "for n in nilaiTugas:\n",
    "    if (n > max):\n",
    "        max = n\n",
    "print('nilai maksimum: ',max)\n",
    "\n",
    "#[4][b] Tampilkan nilai maksimum dan minimum\n",
    "min = nilaiTugas[0]\n",
    "for n in nilaiTugas:\n",
    "    if (n < min):\n",
    "        min = n\n",
    "print('nilai minimum: ',min)"
   ]
  },
  {
   "cell_type": "code",
   "execution_count": 9,
   "metadata": {},
   "outputs": [
    {
     "name": "stdout",
     "output_type": "stream",
     "text": [
      "=============================\n",
      "Data yang paling banyak muncul adalah 69 dengan frekuensi 7 kali\n"
     ]
    }
   ],
   "source": [
    "#[5] Tampilkan modus dari sekumpulan nilai tersebut\n",
    "print('=============================')    \n",
    "dic_nilai = {}\n",
    "\n",
    "for n in nilaiTugas:\n",
    "    if n in dic_nilai:\n",
    "        dic_nilai[n] += 1\n",
    "    else: \n",
    "        dic_nilai[n] = 1\n",
    "\n",
    "key = 0\n",
    "frek = 0\n",
    "dic_modus = {}\n",
    "\n",
    "for val in dic_nilai:\n",
    "    if (dic_nilai[val] > frek):\n",
    "        frek = dic_nilai[val]\n",
    "        key = val\n",
    "        dic_modus = {key:frek}\n",
    "print('Data yang paling banyak muncul adalah',key,'dengan frekuensi',frek,'kali')"
   ]
  },
  {
   "cell_type": "markdown",
   "metadata": {},
   "source": [
    "# Tugas 2.a : Word Count"
   ]
  },
  {
   "cell_type": "code",
   "execution_count": 10,
   "metadata": {},
   "outputs": [
    {
     "name": "stdout",
     "output_type": "stream",
     "text": [
      "Paragraf sebelum preprocessing: \n",
      "\n",
      "Barcelona berhasil merebut posisi puncak klasemen La Liga Spanyol seusai menang 4-2 atas Sevilla pada pertandingan pekan kesembilan di Stadion Camp Nou, Sabtu (20/10/2018) atau Minggu dini hari WIB. Barcelona membuka keunggulan pada menit ke-2 melalui gol yang dicetak oleh Philippe Coutinho. Lionel Messi menggandakan keunggulan Barcelona, 10 menit berselang.  Namun, nahas bagi Barcelona, karena Messi harus ditarik keluar pada menit ke-26 setelah mengalami cedera. Tanpa Messi, skor 2-0 bertahan hingga babak pertama berakhir.\n"
     ]
    }
   ],
   "source": [
    "print(\"Paragraf sebelum preprocessing: \\n\")\n",
    "paragraf = \"Barcelona berhasil merebut posisi puncak klasemen La Liga Spanyol seusai menang 4-2 atas Sevilla pada pertandingan pekan kesembilan di Stadion Camp Nou, Sabtu (20/10/2018) atau Minggu dini hari WIB. Barcelona membuka keunggulan pada menit ke-2 melalui gol yang dicetak oleh Philippe Coutinho. Lionel Messi menggandakan keunggulan Barcelona, 10 menit berselang.  Namun, nahas bagi Barcelona, karena Messi harus ditarik keluar pada menit ke-26 setelah mengalami cedera. Tanpa Messi, skor 2-0 bertahan hingga babak pertama berakhir.\"\n",
    "print(paragraf)"
   ]
  },
  {
   "cell_type": "code",
   "execution_count": 11,
   "metadata": {},
   "outputs": [
    {
     "name": "stdout",
     "output_type": "stream",
     "text": [
      "Paragraf setelah di prprocessing: \n",
      "\n",
      "barcelona berhasil merebut posisi puncak klasemen la liga spanyol seusai menang  atas sevilla pada pertandingan pekan kesembilan di stadion camp nou sabtu  atau minggu dini hari wib barcelona membuka keunggulan pada menit ke melalui gol yang dicetak oleh philippe coutinho lionel messi menggandakan keunggulan barcelona  menit berselang  namun nahas bagi barcelona karena messi harus ditarik keluar pada menit ke setelah mengalami cedera tanpa messi skor  bertahan hingga babak pertama berakhir\n"
     ]
    }
   ],
   "source": [
    "print(\"Paragraf setelah di prprocessing: \\n\")\n",
    "\n",
    "paragraf = paragraf.lower()\n",
    "for char in '?.!/;:()-,0123456789':  \n",
    "    paragraf = paragraf.replace(char,'')\n",
    "word_list = paragraf.split()\n",
    "print(paragraf)"
   ]
  },
  {
   "cell_type": "code",
   "execution_count": 12,
   "metadata": {},
   "outputs": [
    {
     "name": "stdout",
     "output_type": "stream",
     "text": [
      "Hasil perhitungan setiap kata dalam paragraf: \n",
      "\n",
      "barcelona : 4\n",
      "berhasil : 1\n",
      "merebut : 1\n",
      "posisi : 1\n",
      "puncak : 1\n",
      "klasemen : 1\n",
      "la : 1\n",
      "liga : 1\n",
      "spanyol : 1\n",
      "seusai : 1\n",
      "menang : 1\n",
      "atas : 1\n",
      "sevilla : 1\n",
      "pada : 3\n",
      "pertandingan : 1\n",
      "pekan : 1\n",
      "kesembilan : 1\n",
      "di : 1\n",
      "stadion : 1\n",
      "camp : 1\n",
      "nou : 1\n",
      "sabtu : 1\n",
      "atau : 1\n",
      "minggu : 1\n",
      "dini : 1\n",
      "hari : 1\n",
      "wib : 1\n",
      "membuka : 1\n",
      "keunggulan : 2\n",
      "menit : 3\n",
      "ke : 2\n",
      "melalui : 1\n",
      "gol : 1\n",
      "yang : 1\n",
      "dicetak : 1\n",
      "oleh : 1\n",
      "philippe : 1\n",
      "coutinho : 1\n",
      "lionel : 1\n",
      "messi : 3\n",
      "menggandakan : 1\n",
      "berselang : 1\n",
      "namun : 1\n",
      "nahas : 1\n",
      "bagi : 1\n",
      "karena : 1\n",
      "harus : 1\n",
      "ditarik : 1\n",
      "keluar : 1\n",
      "setelah : 1\n",
      "mengalami : 1\n",
      "cedera : 1\n",
      "tanpa : 1\n",
      "skor : 1\n",
      "bertahan : 1\n",
      "hingga : 1\n",
      "babak : 1\n",
      "pertama : 1\n",
      "berakhir : 1\n"
     ]
    }
   ],
   "source": [
    "dic_word = {}\n",
    "\n",
    "for word in word_list:\n",
    "    if word in dic_word:\n",
    "        dic_word[word] += 1\n",
    "    else: \n",
    "        dic_word[word] = 1\n",
    "# print(dic_word)\n",
    "\n",
    "from pprint import pprint\n",
    "\n",
    "print(\"Hasil perhitungan setiap kata dalam paragraf: \\n\")\n",
    "list = []\n",
    "for word in dic_word:\n",
    "    list.append({word:dic_word[word]})\n",
    "\n",
    "for dic in list:\n",
    "    for val in dic:\n",
    "        print(val, ':', dic[val])"
   ]
  },
  {
   "cell_type": "code",
   "execution_count": null,
   "metadata": {},
   "outputs": [],
   "source": []
  }
 ],
 "metadata": {
  "kernelspec": {
   "display_name": "Python 3",
   "language": "python",
   "name": "python3"
  },
  "language_info": {
   "codemirror_mode": {
    "name": "ipython",
    "version": 3
   },
   "file_extension": ".py",
   "mimetype": "text/x-python",
   "name": "python",
   "nbconvert_exporter": "python",
   "pygments_lexer": "ipython3",
   "version": "3.7.0"
  }
 },
 "nbformat": 4,
 "nbformat_minor": 2
}
