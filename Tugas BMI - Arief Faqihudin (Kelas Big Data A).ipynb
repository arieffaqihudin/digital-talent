{
 "cells": [
  {
   "cell_type": "markdown",
   "metadata": {},
   "source": [
    "## Tugas BMI"
   ]
  },
  {
   "cell_type": "markdown",
   "metadata": {},
   "source": [
    "Body Mass Index (BMI) menentukan sebuah keidealan berat badan terhadap tinggi badan.\n",
    "Berikut adalah formula dari BMI : BMI = weight (kg) ÷ height^2 (m^2)"
   ]
  },
  {
   "cell_type": "code",
   "execution_count": 8,
   "metadata": {},
   "outputs": [
    {
     "name": "stdout",
     "output_type": "stream",
     "text": [
      "Kategori BMI Anda adalah Normal (Healthy Weight)\n"
     ]
    }
   ],
   "source": [
    "bb = 50 # berat badan, satuan dalam kg\n",
    "tb = 160 # tinggi badan, satuan dalam cm\n",
    "bmi = bb/(tb/100)**2\n",
    "\n",
    "if bmi<15:\n",
    "    print (\"Kategori BMI Anda adalah Very severely underweight\")\n",
    "elif 15<bmi<16:\n",
    "    print (\"Kategori BMI Anda adalah Severely underweight\")\n",
    "elif 16<bmi<18.5:\n",
    "    print (\"Kategori BMI Anda adalah Underweight\")\n",
    "elif 18.5<bmi<25:\n",
    "    print (\"Kategori BMI Anda adalah Normal (Healthy Weight)\")\n",
    "elif 25<bmi<30:\n",
    "    print (\"Kategori BMI Anda adalah Overweight\")\n",
    "elif 30<bmi<35:\n",
    "    print (\"Kategori BMI Anda adalah Moderately obese\")\n",
    "elif 35<bmi<40:\n",
    "    print (\"Kategori BMI Anda adalah Severely obese\")\n",
    "else:\n",
    "    print (\"Kategori BMI Anda adalah Very severely obese\")"
   ]
  },
  {
   "cell_type": "code",
   "execution_count": null,
   "metadata": {},
   "outputs": [],
   "source": []
  }
 ],
 "metadata": {
  "kernelspec": {
   "display_name": "Python 3",
   "language": "python",
   "name": "python3"
  },
  "language_info": {
   "codemirror_mode": {
    "name": "ipython",
    "version": 3
   },
   "file_extension": ".py",
   "mimetype": "text/x-python",
   "name": "python",
   "nbconvert_exporter": "python",
   "pygments_lexer": "ipython3",
   "version": "3.7.0"
  }
 },
 "nbformat": 4,
 "nbformat_minor": 2
}
